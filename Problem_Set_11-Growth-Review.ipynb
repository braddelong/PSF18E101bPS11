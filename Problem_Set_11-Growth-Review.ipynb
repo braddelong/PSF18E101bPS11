{
 "cells": [
  {
   "cell_type": "markdown",
   "metadata": {
    "slideshow": {
     "slide_type": "notes"
    }
   },
   "source": [
    "# Proble Set 11: Grorwth Review"
   ]
  },
  {
   "cell_type": "markdown",
   "metadata": {},
   "source": [
    "# Problem set will be due M Nov 12 at Midnight via autograder..."
   ]
  },
  {
   "cell_type": "markdown",
   "metadata": {},
   "source": [
    "## Setting up the Python/Jupyter environment"
   ]
  },
  {
   "cell_type": "code",
   "execution_count": null,
   "metadata": {},
   "outputs": [],
   "source": [
    "%%javascript\n",
    "\n",
    "IPython.OutputArea.prototype._should_scroll = function(lines) {\n",
    "    return false;}"
   ]
  },
  {
   "cell_type": "code",
   "execution_count": null,
   "metadata": {},
   "outputs": [],
   "source": [
    "# ABOVE CELL IS \"NO SCROLLING SUBWINDOWS\" SETUP\n",
    "#\n",
    "# keep output cells from shifting to autoscroll: little scrolling\n",
    "# subwindows within the notebook are an annoyance..."
   ]
  },
  {
   "cell_type": "code",
   "execution_count": null,
   "metadata": {},
   "outputs": [],
   "source": [
    "# LOADING LIBRARIES WE MIGHT NEED...\n",
    "#\n",
    "# system\n",
    "\n",
    "import sys\n",
    "import os\n",
    "from urllib.request import urlretrieve"
   ]
  },
  {
   "cell_type": "code",
   "execution_count": null,
   "metadata": {},
   "outputs": [],
   "source": [
    "# LOADING LIBRARIES WE MIGHT NEED...\n",
    "#\n",
    "# plotting\n",
    "\n",
    "import matplotlib as mpl\n",
    "import matplotlib.pyplot as plt\n",
    "from IPython.display import Image\n",
    "import seaborn as sns"
   ]
  },
  {
   "cell_type": "code",
   "execution_count": null,
   "metadata": {},
   "outputs": [],
   "source": [
    "# LOADING LIBRARIES WE MIGHT NEED...\n",
    "#\n",
    "# data handling\n",
    "\n",
    "import pandas as pd\n",
    "from pandas import DataFrame, Series\n",
    "from datetime import datetime"
   ]
  },
  {
   "cell_type": "code",
   "execution_count": null,
   "metadata": {},
   "outputs": [],
   "source": [
    "# LOADING LIBRARIES WE MIGHT NEED...\n",
    "#\n",
    "# math\n",
    "\n",
    "import scipy as sp\n",
    "import numpy as np\n",
    "import math\n",
    "import random"
   ]
  },
  {
   "cell_type": "code",
   "execution_count": null,
   "metadata": {},
   "outputs": [],
   "source": [
    "# LOADING LIBRARIES WE MIGHT NEED...\n",
    "#\n",
    "# statistics\n",
    "\n",
    "import statsmodels\n",
    "import statsmodels.api as sm\n",
    "import statsmodels.formula.api as smf"
   ]
  },
  {
   "cell_type": "code",
   "execution_count": null,
   "metadata": {},
   "outputs": [],
   "source": [
    "# PRETTIER GRAPHICS SETUP\n",
    "#\n",
    "# graphics setup: seaborn-whitegrid and figure size;\n",
    "# graphs in the notebook itself...\n",
    "\n",
    "%matplotlib inline \n",
    "\n",
    "plt.style.use('seaborn-whitegrid')\n",
    "\n",
    "figure_size = plt.rcParams[\"figure.figsize\"]\n",
    "figure_size[0] = 12\n",
    "figure_size[1] = 10\n",
    "plt.rcParams[\"figure.figsize\"] = figure_size"
   ]
  },
  {
   "cell_type": "code",
   "execution_count": null,
   "metadata": {},
   "outputs": [],
   "source": [
    "# THIS CELL IS THE KEY TO THE OKPY.ORG AUTOGRADER SYSTEM\n",
    "#\n",
    "# Don't change this cell; just run it. \n",
    "# The result will give you directions about how to log in to the submission system, called OK.\n",
    "# Once you're logged in, you can run this cell again, but it won't ask you who you are because\n",
    "# it remembers you. However, you will need to log in once per assignment.\n",
    "\n",
    "!pip install -U okpy\n",
    "\n",
    "from client.api.notebook import Notebook\n",
    "\n",
    "ok = Notebook('ps11.ok')\n",
    "_ = ok.auth(force=True, inline=True)"
   ]
  },
  {
   "cell_type": "markdown",
   "metadata": {},
   "source": [
    "### ⬆︎⬆︎⬆︎⬆︎⬆︎⬆︎⬆︎⬆︎⬆︎⬆︎⬆︎⬆︎⬆︎⬆︎⬆︎⬆︎\n",
    "### RUN THESE CELLS ABOVE FIRST"
   ]
  },
  {
   "cell_type": "markdown",
   "metadata": {},
   "source": [
    "The exam will have a considerable number of multiple choice questions based on the barebones Solow Growth Model:\n",
    "\n",
    "&nbsp;"
   ]
  },
  {
   "cell_type": "markdown",
   "metadata": {},
   "source": [
    "### Solow Growth Model\n",
    "\n",
    "We have the Solow Growth Model (SGM) system of equations:\n",
    "\n",
    "&nbsp;&nbsp;&nbsp;&nbsp;&nbsp;&nbsp;&nbsp;&nbsp;&nbsp;\n",
    "$ \\frac{d\\left(L_t\\right)}{dt} = nL_t $ :: labor force growth equation\n",
    "\n",
    "&nbsp;&nbsp;&nbsp;&nbsp;&nbsp;&nbsp;&nbsp;&nbsp;&nbsp;\n",
    "$ \\frac{d\\left(E_t\\right)}{dt} = gE_t $ :: efficiency of labor growth equation\n",
    "\n",
    "&nbsp;&nbsp;&nbsp;&nbsp;&nbsp;&nbsp;&nbsp;&nbsp;&nbsp;\n",
    "$ \\frac{d\\left(K_t\\right)}{dt} = sY_t - \\delta{K_t} $ :: capital stock growth equation\n",
    "\n",
    "&nbsp;&nbsp;&nbsp;&nbsp;&nbsp;&nbsp;&nbsp;&nbsp;&nbsp;\n",
    "$ Y_t = \\left(K_t\\right)^{\\alpha}\\left(L_tE_t\\right)^{1-\\alpha} $ :: production function\n",
    "\n",
    "&nbsp;"
   ]
  },
  {
   "cell_type": "markdown",
   "metadata": {},
   "source": [
    "#### A.1.1: Long-Run Capital-Output Ratio\n",
    "\n",
    "If s, n, g, α, and δ remain constant at their initial values, toward what value is the capital-output ratio $ K_t/Y_t $ converging in the long run? Set the value of the variable in the code cell immediately below to the number of the correct answer:\n",
    "\n",
    "1. $ \\lim\\limits_{t\\to\\infty}\\left(\\frac{K_t}{Y_t}\\right) = \\frac{s}{n+g+\\delta} $\n",
    "\n",
    "2. $ \\lim\\limits_{t\\to\\infty}\\left(\\frac{K_t}{Y_t}\\right) = \\left(\\frac{s}{n+g+\\delta}\\right)^{\\frac{1}{1-\\alpha}} \n",
    "$ \n",
    "\n",
    "3. \n",
    "$ \\lim\\limits_{t\\to\\infty}\\left(\\frac{K_t}{Y_t}\\right) = \\left(\\frac{s}{n+g+\\delta}\\right)^{\\frac{\\alpha}{1-\\alpha}} $\n",
    "\n",
    "4. \n",
    "none of the above"
   ]
  },
  {
   "cell_type": "code",
   "execution_count": null,
   "metadata": {},
   "outputs": [],
   "source": [
    "PS13A11 =\n",
    "\n"
   ]
  },
  {
   "cell_type": "code",
   "execution_count": null,
   "metadata": {},
   "outputs": [],
   "source": [
    "# ANSWER CHECK\n",
    "\n",
    "import numpy as np\n",
    "ok.grade('q01')"
   ]
  },
  {
   "cell_type": "markdown",
   "metadata": {},
   "source": [
    "#### Long-Run Output-per-Worker Path\n",
    "\n",
    "If s, n, g, α, and δ remain constant at their initial values, toward what path is the output-per-worker ratio $ Y_t/L_t $ converging in the long run? Set the value of the variable in the code cell immediately below to the number of the correct answer:\n",
    "\n",
    "1. \n",
    "$ \\lim\\limits_{t\\to\\infty}\\left(\\frac{Y_t}{L_t}\\right) = \\frac{s}{n+g+\\delta} \\left(E_0{e^{gt}}\\right) $\n",
    "\n",
    "2. \n",
    "$ \\lim\\limits_{t\\to\\infty}\\left(\\frac{Y_t}{L_t}\\right) = \\left(\\frac{s}{n+g+\\delta}\\right)^{\\frac{1}{1-\\alpha}} \\left(E_0{e^{gt}}\\right) $ \n",
    "\n",
    "3. \n",
    "$ \\lim\\limits_{t\\to\\infty}\\left(\\frac{Y_t}{L_t}\\right) = \\left(\\frac{s}{n+g+\\delta}\\right)^{\\frac{\\alpha}{1-\\alpha}} \\left(E_0{e^{gt}}\\right) $\n",
    "\n",
    "4. \n",
    "none of the above"
   ]
  },
  {
   "cell_type": "code",
   "execution_count": null,
   "metadata": {},
   "outputs": [],
   "source": [
    "PS13A12 =\n",
    "\n"
   ]
  },
  {
   "cell_type": "code",
   "execution_count": null,
   "metadata": {},
   "outputs": [],
   "source": [
    "# ANSWER CHECK\n",
    "\n",
    "import numpy as np\n",
    "ok.grade('q02')"
   ]
  },
  {
   "cell_type": "markdown",
   "metadata": {},
   "source": [
    "#### Long-Run Capital-per-Worker Path\n",
    "\n",
    "If s, n, g, α, and δ remain constant at their initial values, toward what path is the capital-per-worker ratio $ K_t/L_t $ converging in the long run? Set the value of the variable in the code cell immediately below to the number of the correct answer:\n",
    "\n",
    "1. \n",
    "$ \\lim\\limits_{t\\to\\infty}\\left(\\frac{K_t}{L_t}\\right) = \\frac{s}{n+g+\\delta} \\left(E_0{e^{gt}}\\right) $\n",
    "\n",
    "2. \n",
    "$ \\lim\\limits_{t\\to\\infty}\\left(\\frac{K_t}{L_t}\\right) = \\left(\\frac{s}{n+g+\\delta}\\right)^{\\frac{1}{1-\\alpha}} \\left(E_0{e^{gt}}\\right) $ \n",
    "\n",
    "3. \n",
    "$ \\lim\\limits_{t\\to\\infty}\\left(\\frac{K_t}{L_t}\\right) = \\left(\\frac{s}{n+g+\\delta}\\right)^{\\frac{\\alpha}{1-\\alpha}} \\left(E_0{e^{gt}}\\right) $\n",
    "\n",
    "4. \n",
    "none of the above"
   ]
  },
  {
   "cell_type": "code",
   "execution_count": null,
   "metadata": {},
   "outputs": [],
   "source": [
    "PS13A13 =\n",
    "\n"
   ]
  },
  {
   "cell_type": "code",
   "execution_count": null,
   "metadata": {},
   "outputs": [],
   "source": [
    "# ANSWER CHECK\n",
    "\n",
    "import numpy as np\n",
    "ok.grade('q03')"
   ]
  },
  {
   "cell_type": "markdown",
   "metadata": {},
   "source": [
    "#### An Increase in Savings: Output\n",
    "\n",
    "If the savings rate s in a SGM economy doubles, then the level of output per worker along the economy's steady-state growth path will:\n",
    "\n",
    "1. \n",
    "double\n",
    "\n",
    "2. \n",
    "halve\n",
    "\n",
    "3. \n",
    "increase by an amount that will be more than a doubling if the production function parameter $ \\alpha > \\frac{1}{2} $, but increase by an amount that will be less than a doubling if the production function parameter $ \\alpha < \\frac{1}{2} $.\n",
    "\n",
    "4. \n",
    "none of the above"
   ]
  },
  {
   "cell_type": "code",
   "execution_count": null,
   "metadata": {},
   "outputs": [],
   "source": [
    "PS13A14 =\n",
    "\n"
   ]
  },
  {
   "cell_type": "code",
   "execution_count": null,
   "metadata": {},
   "outputs": [],
   "source": [
    "# ANSWER CHECK\n",
    "\n",
    "import numpy as np\n",
    "ok.grade('q04')"
   ]
  },
  {
   "cell_type": "markdown",
   "metadata": {},
   "source": [
    "#### An Increase in Savings: Capital\n",
    "\n",
    "If the savings rate s in a SGM economy doubles, then the level of the capital-output ratio along the economy's steady-state growth path will:\n",
    "\n",
    "1. \n",
    "double\n",
    "\n",
    "2. \n",
    "halve\n",
    "\n",
    "3. \n",
    "increase by an amount that will be more than a doubling if the production function parameter $ \\alpha > \\frac{1}{2} $, but increase by an amount that will be less than a doubling if the production function parameter $ \\alpha < \\frac{1}{2} $.\n",
    "\n",
    "4. \n",
    "none of the above"
   ]
  },
  {
   "cell_type": "code",
   "execution_count": null,
   "metadata": {},
   "outputs": [],
   "source": [
    "PS13A15 =\n",
    "\n"
   ]
  },
  {
   "cell_type": "code",
   "execution_count": null,
   "metadata": {},
   "outputs": [],
   "source": [
    "# ANSWER CHECK\n",
    "\n",
    "import numpy as np\n",
    "ok.grade('q05')"
   ]
  },
  {
   "cell_type": "markdown",
   "metadata": {},
   "source": [
    "#### An Increase in the Production Function Parameter $ \\alpha $\n",
    "\n",
    "Comparing two SGM economies, the one with the higher value of the production function parameter $ \\alpha $ will have:\n",
    "\n",
    "1. \n",
    "faster convergence to its steady-state balanced-growth path\n",
    "\n",
    "2. \n",
    "slower convergence to its steady-state balanced-growth path\n",
    "\n",
    "3. \n",
    "the same speed of convergence to its steady-state balanced-growth path\n",
    "\n",
    "4. none of the above"
   ]
  },
  {
   "cell_type": "code",
   "execution_count": null,
   "metadata": {},
   "outputs": [],
   "source": [
    "PS13A16 =\n",
    "\n"
   ]
  },
  {
   "cell_type": "code",
   "execution_count": null,
   "metadata": {},
   "outputs": [],
   "source": [
    "# ANSWER CHECK\n",
    "\n",
    "import numpy as np\n",
    "ok.grade('q06')"
   ]
  },
  {
   "cell_type": "markdown",
   "metadata": {},
   "source": [
    "#### An Increase in the Production Function Parameter $ \\alpha $\n",
    "\n",
    "Comparing two SGM economies, the one with the higher value of the production function parameter $ \\alpha $ will have:\n",
    "\n",
    "1. a larger difference in output per worker levels along their steady-state balanced-growth paths\n",
    "\n",
    "2. a smaller difference in output per worker levels along their steady-state balanced-growth paths\n",
    "\n",
    "3. there is not enough information to determine what will be the difference in output per worker levels along their steady-state balanced-growth paths\n",
    "\n",
    "4. none of the above"
   ]
  },
  {
   "cell_type": "code",
   "execution_count": null,
   "metadata": {},
   "outputs": [],
   "source": [
    "PS13A17 = \n",
    "\n"
   ]
  },
  {
   "cell_type": "code",
   "execution_count": null,
   "metadata": {},
   "outputs": [],
   "source": [
    "# ANSWER CHECK\n",
    "\n",
    "import numpy as np\n",
    "ok.grade('q07')"
   ]
  },
  {
   "cell_type": "markdown",
   "metadata": {},
   "source": [
    "#### An Increase in the Production Function Parameter $ \\alpha $\n",
    "\n",
    "Comparing two SGM economies with identical other parameters, the one with the higher value of the production function parameter $ \\alpha $ will have:\n",
    "\n",
    "1. \n",
    "a larger difference in capital-output levels along their steady-state balanced-growth paths\n",
    "\n",
    "2. \n",
    "a smaller difference in capital-output levels along their steady-state balanced-growth paths\n",
    "\n",
    "3. \n",
    "there is not enough information to determine what will be the difference in capital per worker levels along their steady-state balanced-growth paths\n",
    "\n",
    "4. \n",
    "none of the above"
   ]
  },
  {
   "cell_type": "code",
   "execution_count": null,
   "metadata": {},
   "outputs": [],
   "source": [
    "PS13A18 =\n",
    "\n"
   ]
  },
  {
   "cell_type": "code",
   "execution_count": null,
   "metadata": {},
   "outputs": [],
   "source": [
    "# ANSWER CHECK\n",
    "\n",
    "import numpy as np\n",
    "ok.grade('q08')"
   ]
  },
  {
   "cell_type": "markdown",
   "metadata": {},
   "source": [
    "#### Malthusian Economies\n",
    "\n",
    "The slow pace of increase of average output per capita in the world economy over the long Agrarian Age—from 5000 BC to 1800—is best accounted for by:\n",
    "\n",
    "1. \n",
    "the absence of intellectual property institutions that allowed inventors to profit mightily from their inventions\n",
    "\n",
    "2. \n",
    "population growth that generated increasing resource scarcity that offset what would otherwise have been the positive effects of inventions and innovations on the efficiency of labor E\n",
    "\n",
    "3. \n",
    "wars that kept the capital stock from growing rapidly\n",
    "\n",
    "4. \n",
    "none of the above"
   ]
  },
  {
   "cell_type": "code",
   "execution_count": null,
   "metadata": {},
   "outputs": [],
   "source": [
    "PS13A19 =\n",
    "\n"
   ]
  },
  {
   "cell_type": "code",
   "execution_count": null,
   "metadata": {},
   "outputs": [],
   "source": [
    "# ANSWER CHECK\n",
    "\n",
    "import numpy as np\n",
    "ok.grade('q09')"
   ]
  },
  {
   "cell_type": "markdown",
   "metadata": {},
   "source": [
    "#### Post-Malthusian Economies\n",
    "\n",
    "The rapid pace of increase of average output per capita in the world economy since the end of the long Agrarian Age—since about 1800—is best accounted for by:\n",
    "\n",
    "1. \n",
    "the presence of intellectual property institutions that allowed inventors to profit mightily from their inventions\n",
    "\n",
    "2. \n",
    "population growth that has been slower than before and thus did not generate resource scarcity to offset what would otherwise have been the positive effects of inventions and innovations on the efficiency of labor E\n",
    "\n",
    "3. \n",
    "the absence of wars and thus the ability of the capital stock to grow rapidly\n",
    "\n",
    "4. \n",
    "none of the above"
   ]
  },
  {
   "cell_type": "code",
   "execution_count": null,
   "metadata": {},
   "outputs": [],
   "source": [
    "PS13A110 =\n",
    "\n"
   ]
  },
  {
   "cell_type": "code",
   "execution_count": null,
   "metadata": {},
   "outputs": [],
   "source": [
    "# ANSWER CHECK\n",
    "\n",
    "import numpy as np\n",
    "ok.grade('q10')"
   ]
  },
  {
   "cell_type": "markdown",
   "metadata": {},
   "source": [
    "#### Divergence\n",
    "\n",
    "Since 1800 the global distribution of income and wealth has become:\n",
    "\n",
    "1. \n",
    "much more unequal as imperialism and capitalism have absolutely impoverished the global south\n",
    "\n",
    "2. \n",
    "much more equal as the knowledge gained since the start of the Industrial Revolution diffuses around the world in a heartbeat due to our advanced information and communication technologies\n",
    "\n",
    "3. \n",
    "much more unequal as productive use of knowledge about modern machine technologies has required effective communities of engineering practice, and those have proven difficult to construct outside of the global north\n",
    "\n",
    "4. \n",
    "none of the above"
   ]
  },
  {
   "cell_type": "code",
   "execution_count": null,
   "metadata": {},
   "outputs": [],
   "source": [
    "PS13A111 =\n",
    "\n"
   ]
  },
  {
   "cell_type": "code",
   "execution_count": null,
   "metadata": {},
   "outputs": [],
   "source": [
    "# ANSWER CHECK\n",
    "\n",
    "import numpy as np\n",
    "ok.grade('q11')"
   ]
  },
  {
   "cell_type": "markdown",
   "metadata": {},
   "source": [
    "#### Convergence\n",
    "\n",
    "Since 1970 the global distribution of income and wealth has become:\n",
    "\n",
    "1. \n",
    "somewhat more equal as China (and to a lesser extent India) have had two miraculously good generations of growth\n",
    "\n",
    "2. \n",
    "somewhat more unequal as the end of the age of colonialism has been followed by an age of neocolonialism\n",
    "\n",
    "3. \n",
    "somewhat more unequal as the growth of global value chains have allowed the global north to increase the rate of exploitation in the global south\n",
    "\n",
    "4. \n",
    "none of the above"
   ]
  },
  {
   "cell_type": "code",
   "execution_count": null,
   "metadata": {},
   "outputs": [],
   "source": [
    "PS13A112 =\n",
    "\n"
   ]
  },
  {
   "cell_type": "code",
   "execution_count": null,
   "metadata": {},
   "outputs": [],
   "source": [
    "# ANSWER CHECK\n",
    "\n",
    "import numpy as np\n",
    "ok.grade('q12')"
   ]
  },
  {
   "cell_type": "markdown",
   "metadata": {},
   "source": [
    "#### In the Future...\n",
    "\n",
    "We are likely to see the global distribution of income and wealth:\n",
    "\n",
    "1. \n",
    "remain the same as corruption and other forms of rent extraction hobble attempts at development in the global south\n",
    "\n",
    "2. \n",
    "become much more equal as the knowledge gained since the start of the Industrial Revolution diffuses around the world in a heartbeat due to our advanced information and communication technologies\n",
    "\n",
    "3. \n",
    "become more unequal as further technological progress competes withe and reduces the value of the \"unskilled\" human brain while the concentration of physical capital and intellectual property wealth increases\n",
    "\n",
    "4. \n",
    "any of the above is not an implausible scenario—and their are other plausible scenarios too"
   ]
  },
  {
   "cell_type": "code",
   "execution_count": null,
   "metadata": {},
   "outputs": [],
   "source": [
    "PS13A113 =\n",
    "\n"
   ]
  },
  {
   "cell_type": "code",
   "execution_count": null,
   "metadata": {},
   "outputs": [],
   "source": [
    "# ANSWER CHECK\n",
    "\n",
    "import numpy as np\n",
    "ok.grade('q13')"
   ]
  },
  {
   "cell_type": "markdown",
   "metadata": {},
   "source": [
    "#### Long Run Growth\n",
    "\n",
    "The most important determinant of the long-run rate of growth of an economy is:\n",
    "\n",
    "1. \n",
    "the presence of intellectual property institutions that allowed inventors to profit mightily from their inventions\n",
    "\n",
    "2. \n",
    "its rate of growth of the efficiency of labor E\n",
    "\n",
    "3. \n",
    "its steady-state balanced-growth capital-output ratio (K/Y)*\n",
    "\n",
    "4. \n",
    "none of the above"
   ]
  },
  {
   "cell_type": "code",
   "execution_count": null,
   "metadata": {},
   "outputs": [],
   "source": [
    "PS13A114 =\n",
    "\n"
   ]
  },
  {
   "cell_type": "code",
   "execution_count": null,
   "metadata": {},
   "outputs": [],
   "source": [
    "# ANSWER CHECK\n",
    "\n",
    "import numpy as np\n",
    "ok.grade('q14')"
   ]
  },
  {
   "cell_type": "markdown",
   "metadata": {},
   "source": [
    "#### Demographic Transition\n",
    "\n",
    "The principal reason that the world is now closing in on zero population growth and a stable population of about 10 billion rather than seeing population double every generation or two is:\n",
    "\n",
    "1. \n",
    "that with greatly reduced child mortality families no longer believe they need to have as many children as possible in the hope that at least one will outlive them, and the power of literate and relatively prosperous women to control their own fertility\n",
    "\n",
    "2. \n",
    "that resource scarcity in the form of limited farmland makes large families unaffordable in the global south, and resource scarcity in the form of a very high price of education makes large families unaffordable in the global north\n",
    "\n",
    "3. \n",
    "the development of Social Security and other government-sponsored social insurance schemes has greatly lessened the perceived need people see to have children who will outlive them\n",
    "\n",
    "4. \n",
    "none of the above"
   ]
  },
  {
   "cell_type": "code",
   "execution_count": null,
   "metadata": {},
   "outputs": [],
   "source": [
    "PS13A115 =\n",
    "\n"
   ]
  },
  {
   "cell_type": "code",
   "execution_count": null,
   "metadata": {},
   "outputs": [],
   "source": [
    "# ANSWER CHECK\n",
    "\n",
    "import numpy as np\n",
    "ok.grade('q15')"
   ]
  },
  {
   "cell_type": "markdown",
   "metadata": {},
   "source": [
    "The exam will also have a much smaller number of much longer \"calculation\" questions. For example:\n",
    "\n",
    "&nbsp;"
   ]
  },
  {
   "cell_type": "markdown",
   "metadata": {},
   "source": [
    "#### Policy Changes\n",
    "\n",
    "On December 19, 2017, economist Robert Barro of Harvard University wrote <https://tinyurl.com/dl20180428d> that the effects on economic growth of Donald Trump and the Republicans' TCJA would raise real GDP Y over ten years by 2.8% because:\n",
    "\n",
    ">[with] a capital share of income of 40%, the convergence rate in the neoclassical growth model would be around 5% per year... [with] the long-run 7% change... after ten years, the level of real per capita GDP is higher by 2.8%.\n",
    "\n",
    "Let's suppose that we have a SGM economy with a savings share of 24%, an efficiency of labor growth rate of 1.5% per year, a population growth rate of 1% per year, and a depreciation rate of 3.5% per year. \n",
    "\n",
    "With a capital share production function parameter $ \\alpha $ of 40%, what is the rate of annual convergence to the steady-state balanced-growth path in the SGM? \n",
    "\n",
    "Given the value of the production function parameter $ \\alpha $ of 40%, how high would the sum of the efficiency of labor growth rate per year, the population growth rate per year, and the depreciation rate have to be to generate a rate of annual convergence of 5% per year? \n",
    "\n",
    "What does Barro's claim of a 7% long run boost to output per worker along the steady-state balanced-growth path require for the steady-state balanced-growth path capital-output ratio? \n",
    "\n",
    "How big a jump in the savings rate s would that require?\n",
    "\n",
    "In the code cell below, set the variables:\n",
    "\n",
    "    convergence_rate\n",
    "    required_sum\n",
    "    required_KoverY\n",
    "    required_savings\n",
    "   \n",
    "to the answers to these four corresponding questions.\n",
    "\n",
    "----\n",
    "\n",
    "**Memo: relevant equations from the SG barebones framework are**:\n",
    "\n",
    "* $ \\left(\\frac{K}{Y}\\right)^* = \\frac{s}{n+g+\\delta} $ \n",
    ":: steady-state balanced-growth capital-output ratio\n",
    "\n",
    "* $ \\frac{Y_t}{L_t} = \\left(\\frac{K_t}{Y_t}\\right)^\\left(\\frac{\\alpha}{1-\\alpha}\\right)\\left({E_o}e^{gt}\\right) $ :: output per worker as a function of the capital-output ratio\n",
    "\n",
    "* $ \\frac{K_t}{Y_t} = \\left(1- e^{-(1-\\alpha)(n+g+\\delta)t}\\right)\\left(\\frac{K}{Y}\\right)^* + \\left(e^{-(1-\\alpha)(n+g+\\delta)t}\\right)\\left(\\frac{K_o}{Y_o}\\right) $\n",
    ":: convergence to the steady-state balanced-growth capital-output ratio\n",
    "\n",
    "----"
   ]
  },
  {
   "cell_type": "code",
   "execution_count": null,
   "metadata": {},
   "outputs": [],
   "source": [
    "# CODE CELL FOR POLICY CHANGES\n",
    "\n",
    "import numpy as np\n",
    "\n",
    "s = .24\n",
    "g = 0.015\n",
    "n = 0.01\n",
    "delta = 0.035\n",
    "alpha = 0.4\n",
    "\n",
    "# convergence_rate \n",
    "\n",
    "# required_sum = \n",
    "\n",
    "# required_KoverY = \n",
    "\n",
    "# required_savings = "
   ]
  },
  {
   "cell_type": "code",
   "execution_count": null,
   "metadata": {},
   "outputs": [],
   "source": [
    "# ANSWER CHECK\n",
    "\n",
    "import numpy as np\n",
    "ok.grade('q31')"
   ]
  },
  {
   "cell_type": "markdown",
   "metadata": {},
   "source": [
    "Shifting gears from long-run growth to short-run business cycles, the exam will also contain a number of multiple choice questions about analyzing business cycles:\n",
    "\n",
    "&nbsp;"
   ]
  },
  {
   "cell_type": "markdown",
   "metadata": {},
   "source": [
    "#### A Taste of the Business Cycle: IS Curve\n",
    "\n",
    "A key tool in both the flexible-price and the stick-price models is the so-called IS Curve equation, in its two forms:\n",
    "\n",
    "(A) &nbsp;&nbsp;&nbsp;&nbsp;&nbsp;&nbsp; \n",
    "$ Y^* = Y = \\mu\\left(c_o + I_o + G\\right) + \\mu\\left(x_f{Y^f} + x_{\\epsilon}{\\epsilon}_o + x_{\\epsilon}{\\epsilon}_r{r^f}\\right) - \\mu\\left(I_r + x_{\\epsilon}{\\epsilon}_r\\right)r $ :: with causation running from left to right.\n",
    "\n",
    "(B) &nbsp;&nbsp;&nbsp;&nbsp;&nbsp;&nbsp; \n",
    "$ Y = E = \\mu\\left(c_o + I_o + G\\right) + \\mu\\left(x_f{Y^f} + x_{\\epsilon}{\\epsilon}_o + x_{\\epsilon}{\\epsilon}_r{r^f}\\right) - \\mu\\left(I_r + x_{\\epsilon}{\\epsilon}_r\\right)r $ :: with causation running from right to left\n",
    "\n",
    "with the Keynesian multiplier $ \\mu $ set by:\n",
    "\n",
    "&nbsp;&nbsp;&nbsp;&nbsp;&nbsp;&nbsp;\n",
    "$ \\mu = \\frac{1}{1 - (1-t)c_y + im_y} $\n",
    "\n",
    "Of these two forms, (A) and (B):\n",
    "\n",
    "1. \n",
    "the sticky-price model uses form (A) and the flexible-price model uses form (B)\n",
    "\n",
    "2. \n",
    "the flexible-price model uses form (A), but (B) is not the form used in the sticky-price model\n",
    "\n",
    "3. \n",
    "the sticky-price model uses form (B) and the flexible-price model uses form (A)\n",
    "\n",
    "4. \n",
    "none of the above"
   ]
  },
  {
   "cell_type": "code",
   "execution_count": null,
   "metadata": {},
   "outputs": [],
   "source": [
    "PS13A116 =\n",
    "\n"
   ]
  },
  {
   "cell_type": "code",
   "execution_count": null,
   "metadata": {},
   "outputs": [],
   "source": [
    "# ANSWER CHECK\n",
    "\n",
    "import numpy as np\n",
    "ok.grade('q16')"
   ]
  },
  {
   "cell_type": "markdown",
   "metadata": {},
   "source": [
    "#### Exchange Rates\n",
    "\n",
    "In the so-called IS Curve equation:\n",
    "\n",
    "&nbsp;&nbsp;&nbsp;&nbsp;&nbsp;&nbsp; \n",
    "$ Y = \\mu\\left(c_o + I_o + G\\right) + \\mu\\left(x_f{Y^f} + x_{\\epsilon}{\\epsilon}_o + x_{\\epsilon}{\\epsilon}_r{r^f}\\right) - \\mu\\left(I_r + x_{\\epsilon}{\\epsilon}_r\\right)r $\n",
    "\n",
    "with the Keynesian multiplier:\n",
    "\n",
    "&nbsp;&nbsp;&nbsp;&nbsp;&nbsp;&nbsp;\n",
    "$ \\mu = \\frac{1}{1 - (1-t)c_y + im_y} $\n",
    "\n",
    "an increase in foreign exchange speculators' views of the proper value of the dollar—of the home currency—when there is no interest rate differential between home and abroad, an increase that makes home-produced goods less attractive to foreigners and so discourages exports, is modeled by:\n",
    "\n",
    "1. \n",
    "an increase in the value of the exchange rate variable $ \\epsilon $\n",
    "\n",
    "2. \n",
    "a decrease in the value of the exchange rate variable $ \\epsilon $\n",
    "\n",
    "3. \n",
    "an decrease in the value not of the exchange rate variable $ \\epsilon $ but of the parameter $ {\\epsilon}_o $\n",
    "\n",
    "4. \n",
    "none of the above"
   ]
  },
  {
   "cell_type": "code",
   "execution_count": null,
   "metadata": {},
   "outputs": [],
   "source": [
    "PS13A117 = \n",
    "\n"
   ]
  },
  {
   "cell_type": "code",
   "execution_count": null,
   "metadata": {},
   "outputs": [],
   "source": [
    "# ANSWER CHECK\n",
    "\n",
    "import numpy as np\n",
    "ok.grade('q17')"
   ]
  },
  {
   "cell_type": "markdown",
   "metadata": {},
   "source": [
    "#### Determinants of the Multiplier\n",
    "\n",
    "In the so-called IS Curve equation:\n",
    "\n",
    "&nbsp;&nbsp;&nbsp;&nbsp;&nbsp;&nbsp; \n",
    "$ Y = \\mu\\left(c_o + I_o + G\\right) + \\mu\\left(x_f{Y^f} + x_{\\epsilon}{\\epsilon}_o + x_{\\epsilon}{\\epsilon}_r{r^f}\\right) - \\mu\\left(I_r + x_{\\epsilon}{\\epsilon}_r\\right)r $\n",
    "\n",
    "with the Keynesian multiplier:\n",
    "\n",
    "&nbsp;&nbsp;&nbsp;&nbsp;&nbsp;&nbsp;\n",
    "$ \\mu = \\frac{1}{1 - (1-t)c_y + im_y} $\n",
    "\n",
    "comparing two otherwise identical sticky-price economies, the one with the higher value of the marginal propensity to consume $ c_y $ will have a:\n",
    "\n",
    "1. \n",
    "higher value of the Keynesian multiplier $ \\mu $ and thus a larger positive impact on the level of real national income and product of an increase $ {\\Delta}G $ government purchases\n",
    "\n",
    "2. \n",
    "lower value of the Keynesian multiplier $ \\mu $ and thus a larger positive impact on the level of real national income and product of an increase $ {\\Delta}G $ government purchases\n",
    "\n",
    "3. \n",
    "higher value of the Keynesian multiplier $ \\mu $ and thus a smaller positive impact on the level of real national income and product of an increase $ {\\Delta}G $ government purchases\n",
    "\n",
    "4. \n",
    "none of the above"
   ]
  },
  {
   "cell_type": "code",
   "execution_count": null,
   "metadata": {},
   "outputs": [],
   "source": [
    "PS13A118 =\n",
    "\n"
   ]
  },
  {
   "cell_type": "code",
   "execution_count": null,
   "metadata": {},
   "outputs": [],
   "source": [
    "# ANSWER CHECK\n",
    "\n",
    "import numpy as np\n",
    "ok.grade('q18')"
   ]
  },
  {
   "cell_type": "markdown",
   "metadata": {},
   "source": [
    "#### Determinants of the Multiplier 2\n",
    "\n",
    "In the so-called IS Curve equation:\n",
    "\n",
    "&nbsp;&nbsp;&nbsp;&nbsp;&nbsp;&nbsp; \n",
    "$ Y = \\mu\\left(c_o + I_o + G\\right) + \\mu\\left(x_f{Y^f} + x_{\\epsilon}{\\epsilon}_o + x_{\\epsilon}{\\epsilon}_r{r^f}\\right) - \\mu\\left(I_r + x_{\\epsilon}{\\epsilon}_r\\right)r $\n",
    "\n",
    "with the Keynesian multiplier:\n",
    "\n",
    "&nbsp;&nbsp;&nbsp;&nbsp;&nbsp;&nbsp;\n",
    "$ \\mu = \\frac{1}{1 - (1-t)c_y + im_y} $\n",
    "\n",
    "an increase in the share of income that households spend on imports—an increase in the parameter $ im_y $ is associated with a:\n",
    "\n",
    "1. \n",
    "higher value of the Keynesian multiplier $ \\mu $ and thus a larger positive impact on the level of real national income and product of an increase $ {\\Delta}G $ government purchases\n",
    "\n",
    "2. \n",
    "lower value of the Keynesian multiplier $ \\mu $ and thus a larger positive impact on the level of real national income and product of an increase $ {\\Delta}G $ government purchases\n",
    "\n",
    "3. \n",
    "lower value of the Keynesian multiplier $ \\mu $ and thus a smaller positive impact on the level of real national income and product of an increase $ {\\Delta}G $ government purchases\n",
    "\n",
    "4. \n",
    "none of the above"
   ]
  },
  {
   "cell_type": "code",
   "execution_count": null,
   "metadata": {},
   "outputs": [],
   "source": [
    "PS13A119 =\n",
    "\n"
   ]
  },
  {
   "cell_type": "code",
   "execution_count": null,
   "metadata": {},
   "outputs": [],
   "source": [
    "# ANSWER CHECK\n",
    "\n",
    "import numpy as np\n",
    "ok.grade('q19')"
   ]
  },
  {
   "cell_type": "markdown",
   "metadata": {},
   "source": [
    "#### Investment and Interest Rates\n",
    "\n",
    "In the IS Curve equation:\n",
    "\n",
    "&nbsp;&nbsp;&nbsp;&nbsp;&nbsp;&nbsp; \n",
    "$ Y = \\mu\\left(c_o + I_o + G\\right) + \\mu\\left(x_f{Y^f} + x_{\\epsilon}{\\epsilon}_o + x_{\\epsilon}{\\epsilon}_r{r^f}\\right) - \\mu\\left(I_r + x_{\\epsilon}{\\epsilon}_r\\right)r $\n",
    "\n",
    "with the Keynesian multiplier:\n",
    "\n",
    "&nbsp;&nbsp;&nbsp;&nbsp;&nbsp;&nbsp;\n",
    "$ \\mu = \\frac{1}{1 - (1-t)c_y + im_y} $\n",
    "\n",
    "in the flexible-price model, holding other things equal, a decrease in investor \"animal spirits\"—a fall in the parameter $ I_o $ in the equation determining the level of business investment spending—will cause:\n",
    "\n",
    "1. \n",
    "a rise in the domestic long-term risky real interest rate r\n",
    "\n",
    "2. \n",
    "a decline in the domestic long-term risky real interest rate r\n",
    "\n",
    "3. \n",
    "a rise in the value of the foreign long-term risky real interest rate $ r^f $\n",
    "\n",
    "4. \n",
    "none of the above"
   ]
  },
  {
   "cell_type": "code",
   "execution_count": null,
   "metadata": {},
   "outputs": [],
   "source": [
    "PS13A120 =\n",
    "\n"
   ]
  },
  {
   "cell_type": "code",
   "execution_count": null,
   "metadata": {},
   "outputs": [],
   "source": [
    "# ANSWER CHECK\n",
    "\n",
    "import numpy as np\n",
    "ok.grade('q20')"
   ]
  },
  {
   "cell_type": "markdown",
   "metadata": {},
   "source": [
    "#### Investment and Interest Rates 2\n",
    "\n",
    "In the so-called IS Curve equation:\n",
    "\n",
    "&nbsp;&nbsp;&nbsp;&nbsp;&nbsp;&nbsp; \n",
    "$ Y = \\mu\\left(c_o + I_o + G\\right) + \\mu\\left(x_f{Y^f} + x_{\\epsilon}{\\epsilon}_o + x_{\\epsilon}{\\epsilon}_r{r^f}\\right) - \\mu\\left(I_r + x_{\\epsilon}{\\epsilon}_r\\right)r $\n",
    "\n",
    "with the Keynesian multiplier:\n",
    "\n",
    "&nbsp;&nbsp;&nbsp;&nbsp;&nbsp;&nbsp;\n",
    "$ \\mu = \\frac{1}{1 - (1-t)c_y + im_y} $\n",
    "\n",
    "in the sticky-price model, holding other things equal, a decrease in investor \"animal spirits\"—a fall in the parameter $ I_o $ in the equation determining the level of business investment spending—will cause:\n",
    "\n",
    "1. \n",
    "a decline in the domestic long-term risky real interest rate r\n",
    "\n",
    "2. \n",
    "a decline in the level of national income and product Y\n",
    "\n",
    "3. \n",
    "a rise in the value of the foreign long-term risky real interest rate $ r^f $\n",
    "\n",
    "4. \n",
    "none of the above"
   ]
  },
  {
   "cell_type": "code",
   "execution_count": null,
   "metadata": {},
   "outputs": [],
   "source": [
    "PS13A121 =\n",
    "\n"
   ]
  },
  {
   "cell_type": "code",
   "execution_count": null,
   "metadata": {},
   "outputs": [],
   "source": [
    "# ANSWER CHECK\n",
    "\n",
    "import numpy as np\n",
    "ok.grade('q21')"
   ]
  },
  {
   "cell_type": "markdown",
   "metadata": {},
   "source": [
    "#### Investment and Interest Rates 3\n",
    "\n",
    "In the so-called IS Curve equation:\n",
    "\n",
    "&nbsp;&nbsp;&nbsp;&nbsp;&nbsp;&nbsp; \n",
    "$ Y = \\mu\\left(c_o + I_o + G\\right) + \\mu\\left(x_f{Y^f} + x_{\\epsilon}{\\epsilon}_o + x_{\\epsilon}{\\epsilon}_r{r^f}\\right) - \\mu\\left(I_r + x_{\\epsilon}{\\epsilon}_r\\right)r $\n",
    "\n",
    "with the Keynesian multiplier:\n",
    "\n",
    "&nbsp;&nbsp;&nbsp;&nbsp;&nbsp;&nbsp;\n",
    "$ \\mu = \\frac{1}{1 - (1-t)c_y + im_y} $\n",
    "\n",
    "in the sticky-price model, holding other things equal, a decrease in investor \"animal spirits\"—a fall in the parameter $ I_o $ in the equation determining the level of business investment spending—will induce a central bank that is trying to keep national income and product Y from changing either up or down to:\n",
    "\n",
    "1. \n",
    "take steps to boost the short-term safe nominal policy interest rate i it controls, and so induce a rise in the domestic long-term risky real interest rate r\n",
    "\n",
    "2. \n",
    "take steps to cut the short-term safe nominal policy interest rate i it controls, and so induce a fall in the domestic long-term risky real interest rate r\n",
    "\n",
    "3. \n",
    "take steps to boost the short-term safe nominal policy interest rate i it controls, and so induce foreign central banks to react and thus trigger a rise in the value of the foreign long-term risky real interest rate $ r^f $\n",
    "\n",
    "4. \n",
    "none of the above"
   ]
  },
  {
   "cell_type": "code",
   "execution_count": null,
   "metadata": {},
   "outputs": [],
   "source": [
    "PS13A122 ="
   ]
  },
  {
   "cell_type": "code",
   "execution_count": null,
   "metadata": {},
   "outputs": [],
   "source": [
    "# ANSWER CHECK\n",
    "\n",
    "import numpy as np\n",
    "ok.grade('q22')"
   ]
  },
  {
   "cell_type": "markdown",
   "metadata": {},
   "source": [
    "The exam will also have a much smaller number of much longer \"calculation\" questions. For example:\n",
    "\n",
    "&nbsp;"
   ]
  },
  {
   "cell_type": "markdown",
   "metadata": {},
   "source": [
    "#### Greece and the Euro\n",
    "\n",
    "Countries sometimes choose to use monetary policy to fix their exchange rate at some value $ \\epsilon^* $. in the case of Greece in this millennium, it has chosen to be part of the eurozone and so has given up all independent freedom of action to alter the long-term real risky interest rate r in Greece's IS Curve equation:\n",
    "\n",
    "&nbsp;&nbsp;&nbsp;&nbsp;&nbsp;&nbsp; \n",
    "$ Y = E = \\mu\\left(c_o + I_o + G\\right) + \\mu\\left(x_f{Y^f} + x_{\\epsilon}{\\epsilon}_o + x_{\\epsilon}{\\epsilon}_r{r^f}\\right) - \\mu\\left(I_r + x_{\\epsilon}{\\epsilon}_r\\right)r $\n",
    "\n",
    "Instead of choosing r, the requirement that the exchange rate be $ \\epsilon^* $ forces the interest rate to be:\n",
    "\n",
    "&nbsp;&nbsp;&nbsp;&nbsp;&nbsp;&nbsp; \n",
    "$r = r^f - \\frac{\\epsilon^* - \\epsilon_o}{\\epsilon_r} $\n",
    "\n",
    "\n",
    "The higher are foreign interest rates $ r^f $, the higher the domestic interest rate has to be; the higher are foreign exchange rate speculators' beliefs $ \\epsilon_o $ about the fundamental value of foreign currency, the igher the domestic interest rate has to be; and the higher is the value of foreign currency that the country has set its currency peg to, the lower can the domestic interest rate r be. If you substitute this exchange peg maintaing value of r into the IS Curve equation, you get:\n",
    "\n",
    "&nbsp;&nbsp;&nbsp;&nbsp;&nbsp;&nbsp; \n",
    "$ Y = E = \\mu\\left(c_o + I_o + G\\right) + {\\mu}x_f{Y^f} + {\\mu}\\left(x_{\\epsilon} + \\frac{I_r}{\\epsilon_r}\\right){\\epsilon}^* - \\frac{{\\mu}{I_r}{\\epsilon_o}}{\\epsilon_r} - {\\mu}I_r{r^f}$"
   ]
  },
  {
   "cell_type": "markdown",
   "metadata": {},
   "source": [
    "The first half of this equation—through the $ {\\mu}x_f{Y^f} $ term—is the same as the IS Curve equation. But the second half of the equation tells us that:\n",
    "\n",
    "* The more valuable is the domestic currency at the peg—the lower is $ \\epsilon^* $—the lower is national income and product Y. Why? Because a higher value of domestic currency at the peg discourages exports directly, and also requires a higher domestic real interest rate to balance supply and demand for foreign exchange at that peg, and that higher rate discourages investment.\n",
    "\n",
    "* The less confident are foreign exchange speculators in the domestic currency—the higher is $ \\epsilon_o $—the lower is Y. Why? Because foreign exchange speculators less confident about the peg also requires a higher domestic real interest rate to balance supply and demand for foreign exchange at that peg, and that higher rate discourages investment.\n",
    "\n",
    "* The higher are interest rates abroad $ r^f $, the lower is Y. Why? Because the domestic interest rate must rise and fall with foreign interest rates in order to maintain the currency peg, and so a higher value of interest rates abroad requires a higher domestic real interest rate to balance supply and demand for foreign exchange at that peg, and that higher rate discourages investment.\n",
    "\n",
    "Why did Greece not expand government purchases—not raise G—when the second wave of the financial crisis hit it in 2010? Because—accurate—beliefs that Greek fiscal policy was unsustainable led foreign exchange speculators to tie their beliefs about $ \\epsilon_o $ to the level of government purchases and taxes. Let's write down an equation for these beliefs:\n",
    "\n",
    "&nbsp;&nbsp;&nbsp;&nbsp;&nbsp;&nbsp;\n",
    "$ \\epsilon_o = \\gamma_o + \\gamma_GG $\n",
    "\n",
    "If $ I_r = 10 $ and if $ \\epsilon_r = 4 $, what is the value of the parameter $ \\gamma_G $ at which Greece would have been correct not to increase government purchases—at which increases in Greek government purchases in 2010 and after would have not increased Y, and above which increases in government purchases would have reduced Greek national income and product Y? Set the variable\n",
    "\n",
    "    PS13A22_critical_gamma_g\n",
    "    \n",
    "in the code cell below equal to that value.\n",
    "\n",
    "(All this, of course, assumes that Greece is going to—for whatever reason—stay in the eurozone and thus maintain its currency peg. Which it did.)"
   ]
  },
  {
   "cell_type": "code",
   "execution_count": null,
   "metadata": {},
   "outputs": [],
   "source": [
    "# CODE CELL FOR A.2.2: Greece\n",
    "\n",
    "PS13A22_critical_gamma_g =\n",
    "\n"
   ]
  },
  {
   "cell_type": "code",
   "execution_count": null,
   "metadata": {},
   "outputs": [],
   "source": [
    "# ANSWER CHECK\n",
    "\n",
    "import numpy as np\n",
    "ok.grade('q32')"
   ]
  },
  {
   "cell_type": "markdown",
   "metadata": {},
   "source": [
    "A note on this—extremely mean—question: \n",
    "\n",
    "We are, first, asking you to work not with the normal IS Curve equation which assumes that the central bank is pegging the long-term real risky interest rate r, but with an alternative IS Curve equation that assumes that the central bank is pegging something else. \n",
    "\n",
    "Second, the \"something else\" is, in this case, the exchange rate $ \\epsilon $ between Greece and the rest of the European Union. This exchange rate is fixed because Greece has joined the currency union zone that is the Eurozone. And that means that the real interest rate is not an independent but a dependent variable: a function of the real interest rate abroad $ r^f $ and of foreign exchange speculators' views of the fundamental baseline zero-interest-rate-differential value of the exchange rate $ \\epsilon_o $.\n",
    "\n",
    "But that is not all! We are assuming, third, that foreign exchange speculators' views of the fundamental baseline zero-interest-rate-differential value of the exchange rate $ \\epsilon_o $ are themselves a function of the level of government purchases:\n",
    "\n",
    "> $ $ \\epsilon_o = \\gamma_o + \\gamma_GG $\n",
    "\n",
    "with foreign exchange speculators believing that higher government purchases tends to bring with it other policies that will devalue the drachma.\n",
    "\n",
    "Thus expansions in government purchases have effects on real GDP through two channels. There is one channel through which increased government purchases shift the IS Curve to the right on the national income-real interest rate diagram by an amount:\n",
    "\n",
    "> $ {\\mu}{\\Delta}A_o = {\\mu}{\\Delta}G $\n",
    "\n",
    "There is a second channel through which increased government purchases terrify foreign exchange speculators and so, in order to keep Greece inside the Eurozone, require an increase $ {\\Delta}r $ in the real interest rate:\n",
    "\n",
    "> $ {\\Delta}r = \\frac{{\\Delta}\\epsilon_o}{\\epsilon_r} = \\frac{{\\gamma_G}{\\Delta}G}{\\epsilon_r} $\n",
    "\n",
    "which moves the economy up and to the left along the IS Curve and so reduces national income and product by:\n",
    "\n",
    ">$ -{\\mu}(I_r + x_\\epsilon\\epsilon_r)\\left(\\frac{{\\gamma_G}{\\Delta}G}{\\epsilon_r}\\right) $\n",
    "\n",
    "&nbsp;\n",
    "\n",
    "The answers to the question—whether an increase in government purchases $ {\\Delta}G $ for Greece in 2010 would have raised production and income and reduced unemployment or not—hinges on whether:\n",
    "\n",
    "> $ (I_r + x_\\epsilon\\epsilon_r)\\left(\\frac{\\gamma_G}{\\epsilon_r}\\right) < 1 $\n",
    "\n",
    "or:\n",
    "\n",
    "> $ (I_r + x_\\epsilon\\epsilon_r)\\left(\\frac{\\gamma_G}{\\epsilon_r}\\right) > 1 $\n",
    "\n",
    "&nbsp;"
   ]
  },
  {
   "cell_type": "code",
   "execution_count": null,
   "metadata": {},
   "outputs": [],
   "source": [
    "_ = ok.submit()"
   ]
  }
 ],
 "metadata": {
  "celltoolbar": "Edit Metadata",
  "kernelspec": {
   "display_name": "Python 3",
   "language": "python",
   "name": "python3"
  },
  "language_info": {
   "codemirror_mode": {
    "name": "ipython",
    "version": 3
   },
   "file_extension": ".py",
   "mimetype": "text/x-python",
   "name": "python",
   "nbconvert_exporter": "python",
   "pygments_lexer": "ipython3",
   "version": "3.6.5"
  }
 },
 "nbformat": 4,
 "nbformat_minor": 2
}
